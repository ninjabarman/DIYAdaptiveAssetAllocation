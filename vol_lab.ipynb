{
 "cells": [
  {
   "cell_type": "code",
   "execution_count": 2,
   "metadata": {},
   "outputs": [],
   "source": [
    "import pandas as pd\n",
    "import numpy as np"
   ]
  },
  {
   "cell_type": "code",
   "execution_count": 3,
   "metadata": {},
   "outputs": [
    {
     "data": {
      "text/html": [
       "<div>\n",
       "<style scoped>\n",
       "    .dataframe tbody tr th:only-of-type {\n",
       "        vertical-align: middle;\n",
       "    }\n",
       "\n",
       "    .dataframe tbody tr th {\n",
       "        vertical-align: top;\n",
       "    }\n",
       "\n",
       "    .dataframe thead th {\n",
       "        text-align: right;\n",
       "    }\n",
       "</style>\n",
       "<table border=\"1\" class=\"dataframe\">\n",
       "  <thead>\n",
       "    <tr style=\"text-align: right;\">\n",
       "      <th></th>\n",
       "      <th>vxm1</th>\n",
       "      <th>vxm2</th>\n",
       "      <th>vxm3</th>\n",
       "    </tr>\n",
       "    <tr>\n",
       "      <th>index</th>\n",
       "      <th></th>\n",
       "      <th></th>\n",
       "      <th></th>\n",
       "    </tr>\n",
       "  </thead>\n",
       "  <tbody>\n",
       "    <tr>\n",
       "      <th>2006-11-13</th>\n",
       "      <td>12.68</td>\n",
       "      <td>13.17</td>\n",
       "      <td>13.70</td>\n",
       "    </tr>\n",
       "    <tr>\n",
       "      <th>2006-11-14</th>\n",
       "      <td>12.54</td>\n",
       "      <td>13.06</td>\n",
       "      <td>13.65</td>\n",
       "    </tr>\n",
       "    <tr>\n",
       "      <th>2006-11-15</th>\n",
       "      <td>12.35</td>\n",
       "      <td>12.93</td>\n",
       "      <td>13.54</td>\n",
       "    </tr>\n",
       "    <tr>\n",
       "      <th>2006-11-16</th>\n",
       "      <td>12.29</td>\n",
       "      <td>12.90</td>\n",
       "      <td>13.38</td>\n",
       "    </tr>\n",
       "    <tr>\n",
       "      <th>2006-11-17</th>\n",
       "      <td>12.32</td>\n",
       "      <td>12.94</td>\n",
       "      <td>13.44</td>\n",
       "    </tr>\n",
       "    <tr>\n",
       "      <th>...</th>\n",
       "      <td>...</td>\n",
       "      <td>...</td>\n",
       "      <td>...</td>\n",
       "    </tr>\n",
       "    <tr>\n",
       "      <th>2022-10-28</th>\n",
       "      <td>26.90</td>\n",
       "      <td>28.00</td>\n",
       "      <td>28.10</td>\n",
       "    </tr>\n",
       "    <tr>\n",
       "      <th>2022-10-31</th>\n",
       "      <td>26.50</td>\n",
       "      <td>27.70</td>\n",
       "      <td>27.90</td>\n",
       "    </tr>\n",
       "    <tr>\n",
       "      <th>2022-11-01</th>\n",
       "      <td>26.15</td>\n",
       "      <td>27.35</td>\n",
       "      <td>27.55</td>\n",
       "    </tr>\n",
       "    <tr>\n",
       "      <th>2022-11-02</th>\n",
       "      <td>26.60</td>\n",
       "      <td>27.75</td>\n",
       "      <td>27.90</td>\n",
       "    </tr>\n",
       "    <tr>\n",
       "      <th>2022-11-03</th>\n",
       "      <td>27.30</td>\n",
       "      <td>27.50</td>\n",
       "      <td>27.75</td>\n",
       "    </tr>\n",
       "  </tbody>\n",
       "</table>\n",
       "<p>4169 rows × 3 columns</p>\n",
       "</div>"
      ],
      "text/plain": [
       "             vxm1   vxm2   vxm3\n",
       "index                          \n",
       "2006-11-13  12.68  13.17  13.70\n",
       "2006-11-14  12.54  13.06  13.65\n",
       "2006-11-15  12.35  12.93  13.54\n",
       "2006-11-16  12.29  12.90  13.38\n",
       "2006-11-17  12.32  12.94  13.44\n",
       "...           ...    ...    ...\n",
       "2022-10-28  26.90  28.00  28.10\n",
       "2022-10-31  26.50  27.70  27.90\n",
       "2022-11-01  26.15  27.35  27.55\n",
       "2022-11-02  26.60  27.75  27.90\n",
       "2022-11-03  27.30  27.50  27.75\n",
       "\n",
       "[4169 rows x 3 columns]"
      ]
     },
     "execution_count": 3,
     "metadata": {},
     "output_type": "execute_result"
    }
   ],
   "source": [
    "vxm1 = pd.read_csv(\n",
    "    \"/mnt/c/Users/ben/Desktop/afts/vix1.csv\", index_col=\"index\", parse_dates=[\"index\"]\n",
    ").fillna(method=\"ffill\")\n",
    "vxm2 = pd.read_csv(\n",
    "    \"/mnt/c/Users/ben/Desktop/afts/vix2.csv\", index_col=\"index\", parse_dates=[\"index\"]\n",
    ").fillna(method=\"ffill\")\n",
    "vxm3 = pd.read_csv(\n",
    "    \"/mnt/c/Users/ben/Desktop/afts/vix3.csv\", index_col=\"index\", parse_dates=[\"index\"]\n",
    ").fillna(method=\"ffill\")\n",
    "\n",
    "vx = pd.merge(vxm1[\"underlying\"], vxm2[\"underlying\"], left_index=True, right_index=True)\n",
    "vx = pd.merge(vx, vxm3[\"underlying\"], left_index=True, right_index=True)\n",
    "vx.columns = [\"vxm1\", \"vxm2\", \"vxm3\"]\n",
    "vx"
   ]
  },
  {
   "cell_type": "code",
   "execution_count": 4,
   "metadata": {},
   "outputs": [
    {
     "data": {
      "text/html": [
       "<div>\n",
       "<style scoped>\n",
       "    .dataframe tbody tr th:only-of-type {\n",
       "        vertical-align: middle;\n",
       "    }\n",
       "\n",
       "    .dataframe tbody tr th {\n",
       "        vertical-align: top;\n",
       "    }\n",
       "\n",
       "    .dataframe thead th {\n",
       "        text-align: right;\n",
       "    }\n",
       "</style>\n",
       "<table border=\"1\" class=\"dataframe\">\n",
       "  <thead>\n",
       "    <tr style=\"text-align: right;\">\n",
       "      <th></th>\n",
       "      <th>days_until_expiry</th>\n",
       "    </tr>\n",
       "    <tr>\n",
       "      <th>Date</th>\n",
       "      <th></th>\n",
       "    </tr>\n",
       "  </thead>\n",
       "  <tbody>\n",
       "    <tr>\n",
       "      <th>2006-11-13</th>\n",
       "      <td>17</td>\n",
       "    </tr>\n",
       "    <tr>\n",
       "      <th>2006-11-14</th>\n",
       "      <td>16</td>\n",
       "    </tr>\n",
       "    <tr>\n",
       "      <th>2006-11-15</th>\n",
       "      <td>15</td>\n",
       "    </tr>\n",
       "    <tr>\n",
       "      <th>2006-11-16</th>\n",
       "      <td>14</td>\n",
       "    </tr>\n",
       "    <tr>\n",
       "      <th>2006-11-17</th>\n",
       "      <td>13</td>\n",
       "    </tr>\n",
       "    <tr>\n",
       "      <th>...</th>\n",
       "      <td>...</td>\n",
       "    </tr>\n",
       "    <tr>\n",
       "      <th>2023-08-16</th>\n",
       "      <td>15</td>\n",
       "    </tr>\n",
       "    <tr>\n",
       "      <th>2023-08-17</th>\n",
       "      <td>14</td>\n",
       "    </tr>\n",
       "    <tr>\n",
       "      <th>2023-08-18</th>\n",
       "      <td>13</td>\n",
       "    </tr>\n",
       "    <tr>\n",
       "      <th>2023-08-21</th>\n",
       "      <td>10</td>\n",
       "    </tr>\n",
       "    <tr>\n",
       "      <th>2023-08-22</th>\n",
       "      <td>9</td>\n",
       "    </tr>\n",
       "  </tbody>\n",
       "</table>\n",
       "<p>4377 rows × 1 columns</p>\n",
       "</div>"
      ],
      "text/plain": [
       "            days_until_expiry\n",
       "Date                         \n",
       "2006-11-13                 17\n",
       "2006-11-14                 16\n",
       "2006-11-15                 15\n",
       "2006-11-16                 14\n",
       "2006-11-17                 13\n",
       "...                       ...\n",
       "2023-08-16                 15\n",
       "2023-08-17                 14\n",
       "2023-08-18                 13\n",
       "2023-08-21                 10\n",
       "2023-08-22                  9\n",
       "\n",
       "[4377 rows x 1 columns]"
      ]
     },
     "execution_count": 4,
     "metadata": {},
     "output_type": "execute_result"
    }
   ],
   "source": [
    "# Create a custom business day to consider only weekdays as trading days\n",
    "custom_business_day = pd.offsets.CustomBusinessDay(weekmask=\"Mon Tue Wed Thu Fri\")\n",
    "\n",
    "# Create a pandas date range from '2006-11-13' to today using the custom business day frequency\n",
    "start_date = pd.to_datetime(\"2006-11-13\")\n",
    "end_date = pd.to_datetime(\"today\")\n",
    "date_series = pd.date_range(start=start_date, end=end_date, freq=custom_business_day)\n",
    "\n",
    "# Convert the date series into a DataFrame with a proper column name\n",
    "df = pd.DataFrame({\"Date\": date_series})\n",
    "\n",
    "# Find the last trading day of the month for each date\n",
    "df[\"last_trading_day\"] = df[\"Date\"] + pd.offsets.MonthEnd(0)\n",
    "\n",
    "# Calculate the difference in days until the front month VIX expiry, considering only weekdays\n",
    "df[\"days_until_expiry\"] = (df[\"last_trading_day\"] - df[\"Date\"]).dt.days\n",
    "\n",
    "# Drop the 'last_trading_day' column if you don't need it\n",
    "df.drop(columns=[\"last_trading_day\"], inplace=True)\n",
    "\n",
    "# Set the 'Date' column as the index to create the final DataFrame\n",
    "df.set_index(\"Date\", inplace=True)\n",
    "\n",
    "# The result is now a DataFrame with the index being the date and 'days_until_expiry' as the corresponding value.\n",
    "result_df = df\n",
    "\n",
    "df"
   ]
  },
  {
   "cell_type": "code",
   "execution_count": 8,
   "metadata": {},
   "outputs": [
    {
     "data": {
      "text/plain": [
       "index\n",
       "2006-11-13    12.857234\n",
       "2006-11-14    12.720870\n",
       "2006-11-15    12.543333\n",
       "2006-11-16    12.484091\n",
       "2006-11-17    12.507442\n",
       "                ...    \n",
       "2022-10-28    27.000000\n",
       "2022-10-31    26.500000\n",
       "2022-11-01    26.739831\n",
       "2022-11-02    27.155172\n",
       "2022-11-03    27.394737\n",
       "Length: 4169, dtype: float64"
      ]
     },
     "execution_count": 8,
     "metadata": {},
     "output_type": "execute_result"
    }
   ],
   "source": [
    "df = df.loc[vx.index]\n",
    "vx30 = vx[\"vxm1\"] + ((vx[\"vxm2\"] - vx[\"vxm1\"]) / (df[\"days_until_expiry\"] + 30)) * df[\"days_until_expiry\"]\n",
    "vx30"
   ]
  },
  {
   "cell_type": "code",
   "execution_count": 58,
   "metadata": {},
   "outputs": [
    {
     "name": "stdout",
     "output_type": "stream",
     "text": [
      "[*********************100%***********************]  1 of 1 completed\n",
      "count    4021.000000\n",
      "mean       20.210761\n",
      "std         9.377283\n",
      "min         9.140000\n",
      "25%        13.830000\n",
      "50%        17.670000\n",
      "75%        23.660000\n",
      "max        82.690002\n",
      "Name: Adj Close, dtype: float64\n",
      "-4.083930791460034\n",
      "27.514577092576758\n",
      "2006-11-13    1.997234\n",
      "2006-11-14    2.220870\n",
      "2006-11-15    2.233333\n",
      "2006-11-16    2.324091\n",
      "2006-11-17    2.457442\n",
      "                ...   \n",
      "2022-10-28    1.250000\n",
      "2022-10-31    0.620001\n",
      "2022-11-01    0.929831\n",
      "2022-11-02    1.295172\n",
      "2022-11-03         NaN\n",
      "Length: 4169, dtype: float64\n"
     ]
    }
   ],
   "source": [
    "import yfinance as yf\n",
    "\n",
    "vix = yf.download('^VIX', start='2006-11-13', end='2022-11-03')['Adj Close']\n",
    "vix_basis = vx30 - vix\n",
    "#vix_basis.plot(figsize=(10, 6), title='VIX Basis', grid=True, legend=True);\n",
    "print(vix_basis.describe())\n",
    "print(vix_basis.skew())\n",
    "print(vix_basis.kurtosis())\n",
    "print(vix_basis)\n"
   ]
  },
  {
   "cell_type": "code",
   "execution_count": 53,
   "metadata": {},
   "outputs": [
    {
     "name": "stdout",
     "output_type": "stream",
     "text": [
      "[*********************100%***********************]  1 of 1 completed\n"
     ]
    },
    {
     "data": {
      "text/plain": [
       "<Axes: title={'center': 'VIX Basis Strategy Returns'}>"
      ]
     },
     "execution_count": 53,
     "metadata": {},
     "output_type": "execute_result"
    },
    {
     "data": {
      "image/png": "[encoded data removed]",
      "text/plain": [
       "<Figure size 1000x600 with 1 Axes>"
      ]
     },
     "metadata": {},
     "output_type": "display_data"
    }
   ],
   "source": [
    "vxx = yf.download(\"VXX\", start=\"2006-11-13\", end=\"2022-11-03\")['Adj Close']\n",
    "vxx_returns = np.log(vxx / vxx.shift(1)).dropna()\n",
    "vix_basis_rule = vix_basis.apply(np.sign) * -1\n",
    "vix_basis_returns = vix_basis_rule * vxx_returns\n",
    "vix_basis_returns.dropna().cumsum().plot(figsize=(10, 6), title='VIX Basis Strategy Returns', grid=True)\n"
   ]
  },
  {
   "cell_type": "code",
   "execution_count": 57,
   "metadata": {},
   "outputs": [
    {
     "name": "stdout",
     "output_type": "stream",
     "text": [
      "4.272832171801677\n",
      "1.0183274622818097\n"
     ]
    },
    {
     "data": {
      "text/plain": [
       "<Axes: >"
      ]
     },
     "execution_count": 57,
     "metadata": {},
     "output_type": "execute_result"
    },
    {
     "data": {
      "image/png": "[encoded data removed]",
      "text/plain": [
       "<Figure size 1200x800 with 1 Axes>"
      ]
     },
     "metadata": {},
     "output_type": "display_data"
    }
   ],
   "source": [
    "print(vix_basis_returns.mean() / vix_basis_returns.std() * np.sqrt(252))\n",
    "print(vix_basis_returns.skew())\n",
    "vix_basis_returns.hist(bins=50, figsize=(12, 8), density=True)"
   ]
  }
 ],
 "metadata": {
  "kernelspec": {
   "display_name": "rapids-23.06",
   "language": "python",
   "name": "python3"
  },
  "language_info": {
   "codemirror_mode": {
    "name": "ipython",
    "version": 3
   },
   "file_extension": ".py",
   "mimetype": "text/x-python",
   "name": "python",
   "nbconvert_exporter": "python",
   "pygments_lexer": "ipython3",
   "version": "3.10.11"
  },
  "orig_nbformat": 4
 },
 "nbformat": 4,
 "nbformat_minor": 2
}
